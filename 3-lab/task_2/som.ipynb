{
 "cells": [
  {
   "attachments": {},
   "cell_type": "markdown",
   "metadata": {},
   "source": [
    "# SOM implementation in Python using Sklearn/SciKit"
   ]
  },
  {
   "attachments": {},
   "cell_type": "markdown",
   "metadata": {},
   "source": [
    "### Imports"
   ]
  },
  {
   "cell_type": "code",
   "execution_count": 31,
   "metadata": {},
   "outputs": [],
   "source": [
    "# Building SOM\n",
    "from sklearn_som.som import SOM\n",
    "from sklearn import datasets # Contains IRIS dataset\n",
    "import numpy as np\n",
    "\n",
    "# Plotting graph\n",
    "import matplotlib.pyplot as plt\n",
    "from matplotlib.colors import ListedColormap"
   ]
  },
  {
   "attachments": {},
   "cell_type": "markdown",
   "metadata": {},
   "source": [
    "### Data loading"
   ]
  },
  {
   "cell_type": "code",
   "execution_count": 66,
   "metadata": {},
   "outputs": [
    {
     "data": {
      "text/plain": [
       "array([[1.0000000e+00, 3.7764633e-02, 2.5311236e-04, ..., 3.1523157e-02,\n",
       "        3.9787370e-02, 2.0660802e-02],\n",
       "       [1.0000000e+00, 4.2488186e-04, 2.0981824e-02, ..., 7.7890262e-03,\n",
       "        2.9194197e-02, 2.1837388e-02],\n",
       "       [1.0000000e+00, 1.9855760e-02, 3.6765858e-03, ..., 2.2478860e-02,\n",
       "        3.2203582e-02, 4.5187206e-02],\n",
       "       ...,\n",
       "       [3.0000000e+00, 2.9974436e-02, 4.9496069e-02, ..., 5.9442661e-02,\n",
       "        5.2367989e-02, 5.1584825e-02],\n",
       "       [3.0000000e+00, 2.0726395e-02, 1.3336615e-02, ..., 1.7695410e-02,\n",
       "        2.5623734e-02, 3.1585565e-02],\n",
       "       [3.0000000e+00, 4.9173232e-02, 2.6258572e-02, ..., 2.3015826e-02,\n",
       "        3.1864321e-02, 2.3131586e-02]])"
      ]
     },
     "execution_count": 66,
     "metadata": {},
     "output_type": "execute_result"
    }
   ],
   "source": [
    "# IRIS data loading\n",
    "iris = datasets.load_iris()\n",
    "iris_data = iris.data[:, :2]\n",
    "iris_label = iris.target\n",
    "\n",
    "# BME data loading\n",
    "bme_file = open(\"../datasets/BME_MOD.txt\", \"r\")\n",
    "bme_data = []\n",
    "for line in bme_file:\n",
    "    bme_data.append(line.split())\n",
    "    for i in range(0, 129):\n",
    "        bme_data[-1][i] = float(bme_data[-1][i])\n",
    "\n",
    "\n",
    "# Confirm all 180 time series (train + test) loaded into array\n",
    "len(bme_data)\n",
    "\n",
    "# Convert python array to numpy array\n",
    "bme_data = np.array(bme_data)\n",
    "\n",
    "bme_data"
   ]
  },
  {
   "attachments": {},
   "cell_type": "markdown",
   "metadata": {},
   "source": [
    "### Building SOMs"
   ]
  },
  {
   "cell_type": "code",
   "execution_count": 58,
   "metadata": {},
   "outputs": [],
   "source": [
    "# SOM for IRIS dataset\n",
    "iris_som = SOM(m = 3, n = 1, dim = 2)   # 3x1 structure for the SOM\n",
    "iris_som.fit(iris_data)\n",
    "\n",
    "# SOM for BME dataset\n",
    "bme_som = SOM(m = 3, n = 1, dim = 129)\n",
    "bme_som.fit(bme_data)"
   ]
  },
  {
   "attachments": {},
   "cell_type": "markdown",
   "metadata": {},
   "source": [
    "### Applying datasets to SOMs"
   ]
  },
  {
   "cell_type": "code",
   "execution_count": 59,
   "metadata": {},
   "outputs": [],
   "source": [
    "iris_predictions = iris_som.predict(iris_data)\n",
    "bme_predictions = bme_som.predict(bme_data)"
   ]
  },
  {
   "attachments": {},
   "cell_type": "markdown",
   "metadata": {},
   "source": [
    "### Plotting graphs"
   ]
  },
  {
   "cell_type": "code",
   "execution_count": 67,
   "metadata": {},
   "outputs": [
    {
     "ename": "SyntaxError",
     "evalue": "invalid syntax (3446110804.py, line 5)",
     "output_type": "error",
     "traceback": [
      "\u001b[0;36m  Cell \u001b[0;32mIn[67], line 5\u001b[0;36m\u001b[0m\n\u001b[0;31m    x_bme = bme_data[]\u001b[0m\n\u001b[0m                     ^\u001b[0m\n\u001b[0;31mSyntaxError\u001b[0m\u001b[0;31m:\u001b[0m invalid syntax\n"
     ]
    }
   ],
   "source": [
    "# Plot the results\n",
    "fig, ax = plt.subplots(nrows=3, ncols=1, figsize=(7,12))\n",
    "x_iris = iris_data[:,0]\n",
    "y_iris = iris_data[:,1]\n",
    "x_bme = bme_data[]\n",
    "colors = ['red', 'green', 'blue']\n",
    "\n",
    "ax[0].scatter(x_iris, y_iris, c=iris_label, cmap=ListedColormap(colors))\n",
    "ax[0].title.set_text('Actual Classes for IRIS dataset')\n",
    "ax[1].scatter(x_iris, y_iris, c=iris_predictions, cmap=ListedColormap(colors))\n",
    "ax[1].title.set_text('SOM Predictions for IRIS dataset')\n",
    "# Unsure...\n",
    "ax[2].scatter(x, y, c=bme_predictions, cmap=ListedColormap(colors))\n",
    "ax[2].title.set_text('SOM Predictions for BME dataset')"
   ]
  }
 ],
 "metadata": {
  "kernelspec": {
   "display_name": "IL2233",
   "language": "python",
   "name": "python3"
  },
  "language_info": {
   "codemirror_mode": {
    "name": "ipython",
    "version": 3
   },
   "file_extension": ".py",
   "mimetype": "text/x-python",
   "name": "python",
   "nbconvert_exporter": "python",
   "pygments_lexer": "ipython3",
   "version": "3.9.16"
  },
  "orig_nbformat": 4
 },
 "nbformat": 4,
 "nbformat_minor": 2
}
