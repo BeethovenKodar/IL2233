{
 "cells": [
  {
   "attachments": {},
   "cell_type": "markdown",
   "metadata": {},
   "source": [
    "# K-means implementation in Python using Sklearn/SciKit"
   ]
  },
  {
   "attachments": {},
   "cell_type": "markdown",
   "metadata": {},
   "source": [
    "### Imports"
   ]
  },
  {
   "cell_type": "code",
   "execution_count": 2,
   "metadata": {},
   "outputs": [],
   "source": [
    "from sklearn.cluster import KMeans\n",
    "from sklearn import datasets # Contains IRIS dataset\n",
    "import numpy as np\n",
    "from sklearn.preprocessing import MinMaxScaler\n",
    "\n",
    "# Plotting graph\n",
    "import matplotlib.pyplot as plt"
   ]
  },
  {
   "attachments": {},
   "cell_type": "markdown",
   "metadata": {},
   "source": [
    "### Data loading"
   ]
  },
  {
   "cell_type": "code",
   "execution_count": 3,
   "metadata": {},
   "outputs": [],
   "source": [
    "# IRIS data loading\n",
    "iris = datasets.load_iris()\n",
    "iris_data = iris.data[:, :2]\n",
    "iris_label = iris.target\n",
    "\n",
    "# BME data loading\n",
    "bme_file = open(\"../datasets/BME_MOD.txt\", \"r\")\n",
    "bme_data = []\n",
    "for line in bme_file:\n",
    "    bme_data.append(line.split())\n",
    "    for i in range(0, 129):\n",
    "        bme_data[-1][i] = float(bme_data[-1][i])\n",
    "\n",
    "\n",
    "# Confirm all 180 time series (train + test) loaded into array\n",
    "len(bme_data)\n",
    "\n",
    "# Convert python array to numpy array\n",
    "bme_data = np.array(bme_data)\n",
    "\n",
    "# Scaling data\n",
    "scaler = MinMaxScaler()\n",
    "bme_data = scaler.fit_transform(bme_data)"
   ]
  },
  {
   "attachments": {},
   "cell_type": "markdown",
   "metadata": {},
   "source": [
    "### K-Means"
   ]
  },
  {
   "cell_type": "code",
   "execution_count": 11,
   "metadata": {},
   "outputs": [
    {
     "data": {
      "text/plain": [
       "array([0, 0, 0, 1, 0, 0, 0, 0, 1, 1, 1, 1, 1, 1, 1, 1, 1, 1, 1, 1, 0, 0,\n",
       "       2, 0, 2, 2, 0, 0, 0, 0, 0, 1, 1, 1, 0, 0, 1, 1, 1, 0, 1, 0, 0, 0,\n",
       "       0, 1, 0, 1, 1, 1, 1, 0, 1, 1, 1, 0, 1, 1, 1, 0, 1, 1, 1, 1, 1, 0,\n",
       "       1, 1, 0, 1, 0, 0, 1, 1, 0, 1, 0, 0, 0, 1, 1, 1, 1, 1, 1, 1, 1, 1,\n",
       "       1, 1, 1, 1, 1, 1, 1, 1, 1, 1, 1, 1, 1, 1, 1, 1, 1, 1, 1, 1, 1, 1,\n",
       "       1, 1, 1, 1, 1, 1, 1, 1, 1, 1, 1, 1, 1, 1, 1, 1, 1, 1, 1, 1, 0, 2,\n",
       "       0, 0, 2, 2, 2, 2, 2, 0, 2, 2, 0, 2, 0, 2, 2, 0, 2, 0, 0, 2, 2, 2,\n",
       "       0, 2, 2, 0, 0, 0, 2, 0, 0, 2, 2, 2, 0, 0, 2, 0, 0, 0, 0, 0, 2, 2,\n",
       "       0, 0, 0, 0], dtype=int32)"
      ]
     },
     "execution_count": 11,
     "metadata": {},
     "output_type": "execute_result"
    }
   ],
   "source": [
    "kmeans_iris = KMeans(n_clusters=3, random_state=0, n_init=\"auto\").fit(iris_data)\n",
    "kmeans_iris_label = kmeans_iris.fit_predict(iris_data)\n",
    "kmeans_bme = KMeans(n_clusters=3, random_state=0, n_init=\"auto\").fit(bme_data)\n",
    "kmeans_bme_label = kmeans_bme.fit_predict(bme_data)"
   ]
  },
  {
   "attachments": {},
   "cell_type": "markdown",
   "metadata": {},
   "source": [
    "### Plotting"
   ]
  },
  {
   "cell_type": "code",
   "execution_count": 17,
   "metadata": {},
   "outputs": [
    {
     "data": {
      "image/png": "[encoded data removed]",
      "text/plain": [
       "<Figure size 640x480 with 1 Axes>"
      ]
     },
     "metadata": {},
     "output_type": "display_data"
    }
   ],
   "source": [
    "#filter rows of original data\n",
    "filtered_label0 = iris_data[kmeans_iris_label == 0]\n",
    "filtered_label1 = iris_data[kmeans_iris_label == 1]\n",
    "filtered_label2 = iris_data[kmeans_iris_label == 2]\n",
    " \n",
    "#Plotting the results\n",
    "plt.scatter(filtered_label0[:,0] , filtered_label0[:,1] , color = 'red')\n",
    "plt.scatter(filtered_label1[:,0] , filtered_label1[:,1] , color = 'blue')\n",
    "plt.scatter(filtered_label2[:,0] , filtered_label2[:,1] , color = 'green')\n",
    "plt.show()"
   ]
  }
 ],
 "metadata": {
  "kernelspec": {
   "display_name": "IL2233",
   "language": "python",
   "name": "python3"
  },
  "language_info": {
   "codemirror_mode": {
    "name": "ipython",
    "version": 3
   },
   "file_extension": ".py",
   "mimetype": "text/x-python",
   "name": "python",
   "nbconvert_exporter": "python",
   "pygments_lexer": "ipython3",
   "version": "3.9.16"
  },
  "orig_nbformat": 4
 },
 "nbformat": 4,
 "nbformat_minor": 2
}
