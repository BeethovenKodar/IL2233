{
 "cells": [
  {
   "attachments": {},
   "cell_type": "markdown",
   "metadata": {},
   "source": [
    "# SOM implementation in Python using Sklearn/SciKit"
   ]
  },
  {
   "attachments": {},
   "cell_type": "markdown",
   "metadata": {},
   "source": [
    "### Imports"
   ]
  },
  {
   "cell_type": "code",
   "execution_count": 33,
   "metadata": {},
   "outputs": [],
   "source": [
    "# Building SOM\n",
    "from sklearn import datasets, metrics # Contains IRIS dataset\n",
    "from sklearn_som.som import SOM\n",
    "import numpy as np\n",
    "from sklearn.preprocessing import MinMaxScaler\n",
    "import subprocess as sp\n",
    "import os\n",
    "\n",
    "# Plotting graph\n",
    "import matplotlib.pyplot as plt\n",
    "from matplotlib.colors import ListedColormap\n",
    "\n",
    "# Measuring time\n",
    "import time\n"
   ]
  },
  {
   "attachments": {},
   "cell_type": "markdown",
   "metadata": {},
   "source": [
    "### Data loading"
   ]
  },
  {
   "cell_type": "code",
   "execution_count": null,
   "metadata": {},
   "outputs": [],
   "source": [
    "# IRIS data loading\n",
    "iris = datasets.load_iris()\n",
    "iris_data = iris.data[:, :2]\n",
    "iris_label = iris.target\n",
    "\n",
    "# BME data loading\n",
    "bme_file = open(\"datasets/BME_MOD.txt\", \"r\")\n",
    "bme_data = []\n",
    "for line in bme_file:\n",
    "    bme_data.append(line.split())\n",
    "    for i in range(0, 129):\n",
    "        bme_data[-1][i] = float(bme_data[-1][i])\n",
    "\n",
    "\n",
    "# Confirm all 180 time series (train + test) loaded into array\n",
    "len(bme_data)\n",
    "\n",
    "# Convert python array to numpy array\n",
    "bme_data = np.array(bme_data)\n",
    "\n",
    "# Scaling data\n",
    "scaler = MinMaxScaler()\n",
    "bme_data = scaler.fit_transform(bme_data)"
   ]
  },
  {
   "attachments": {},
   "cell_type": "markdown",
   "metadata": {},
   "source": [
    "### Building SOMs"
   ]
  },
  {
   "cell_type": "code",
   "execution_count": 32,
   "metadata": {},
   "outputs": [],
   "source": [
    "\n",
    "# SOM for IRIS dataset\n",
    "iris_som = SOM(m = 3, n = 1, dim = 2)   # 3x1 structure for the SOM\n",
    "\n",
    "st_iris_fit = time.time()\n",
    "iris_som.fit(iris_data)\n",
    "et_iris_fit = time.time()\n",
    "\n",
    "# SOM for BME dataset\n",
    "bme_som = SOM(m = 3, n = 1, dim = 129)\n",
    "\n",
    "st_bme_fit = time.time()\n",
    "bme_som.fit(bme_data)\n",
    "et_bme_fit = time.time()"
   ]
  },
  {
   "attachments": {},
   "cell_type": "markdown",
   "metadata": {},
   "source": [
    "### Applying datasets to SOMs"
   ]
  },
  {
   "cell_type": "code",
   "execution_count": null,
   "metadata": {},
   "outputs": [],
   "source": [
    "st_iris_pred = time.time()\n",
    "iris_predictions = iris_som.predict(iris_data)\n",
    "et_iris_pred = time.time()\n",
    "\n",
    "st_bme_pred = time.time()\n",
    "bme_predictions = bme_som.predict(bme_data)\n",
    "et_bme_pred = time.time()\n"
   ]
  },
  {
   "attachments": {},
   "cell_type": "markdown",
   "metadata": {},
   "source": [
    "### Plotting graphs"
   ]
  },
  {
   "cell_type": "code",
   "execution_count": null,
   "metadata": {},
   "outputs": [],
   "source": [
    "# Plot the results\n",
    "fig, ax = plt.subplots(nrows=2, ncols=2, figsize=(10,12))\n",
    "x_iris = iris_data[:,0]\n",
    "y_iris = iris_data[:,1]\n",
    "x_bme = bme_data[:, 0]\n",
    "y_bme = bme_data[:, 1]\n",
    "colors = ['red', 'green', 'blue']\n",
    "\n",
    "ax[0,0].scatter(x_iris, y_iris, c=iris_label, cmap=ListedColormap(colors))\n",
    "ax[0,0].title.set_text('Actual Classes for IRIS dataset')\n",
    "ax[0,1].scatter(x_iris, y_iris, c=iris_predictions, cmap=ListedColormap(colors))\n",
    "ax[0,1].title.set_text('SOM Predictions for IRIS dataset')\n",
    "ax[1,0].scatter(x_bme, y_bme, c=bme_data[:, 0])\n",
    "ax[1,0].title.set_text('Actual Classes for BME dataset')\n",
    "ax[1,1].scatter(x_bme, y_bme, c=bme_predictions)\n",
    "ax[1,1].title.set_text('SOM Predictions for BME dataset')"
   ]
  },
  {
   "attachments": {},
   "cell_type": "markdown",
   "metadata": {},
   "source": [
    "### RAND Score"
   ]
  },
  {
   "cell_type": "code",
   "execution_count": null,
   "metadata": {},
   "outputs": [],
   "source": [
    "print(\"RAND Scores:\\n IRIS - Sklearn:\", metrics.rand_score(iris_label, iris_predictions), \"\\nBME - Sklearn: \", metrics.rand_score(bme_data[0, :], bme_predictions))"
   ]
  },
  {
   "attachments": {},
   "cell_type": "markdown",
   "metadata": {},
   "source": [
    "### Retrieve c-code's output"
   ]
  },
  {
   "cell_type": "code",
   "execution_count": null,
   "metadata": {},
   "outputs": [],
   "source": [
    "# cmd = '''\n",
    "#     gcc -o som som.c -lm && ./som bme\n",
    "# '''\n",
    "# print(os.getcwd())\n",
    "# print(os.listdir('.'))\n",
    "# output = sp.check_output(cmd.strip('\\n').split(), shell=True)\n",
    "# print(output.decode('utf-8'))"
   ]
  }
 ],
 "metadata": {
  "kernelspec": {
   "display_name": "IL2233",
   "language": "python",
   "name": "python3"
  },
  "language_info": {
   "codemirror_mode": {
    "name": "ipython",
    "version": 3
   },
   "file_extension": ".py",
   "mimetype": "text/x-python",
   "name": "python",
   "nbconvert_exporter": "python",
   "pygments_lexer": "ipython3",
   "version": "3.11.3"
  },
  "orig_nbformat": 4
 },
 "nbformat": 4,
 "nbformat_minor": 2
}
