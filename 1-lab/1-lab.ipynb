{
 "cells": [
  {
   "cell_type": "markdown",
   "id": "041dd6cb",
   "metadata": {},
   "source": [
    "# IL2233 - Lab 1 Time series analysis"
   ]
  },
  {
   "cell_type": "code",
   "execution_count": null,
   "id": "39d77d1f",
   "metadata": {},
   "outputs": [],
   "source": [
    "import numpy\n",
    "import matplotlib.pyplot as plt\n",
    "from random import gauss\n",
    "from random import seed\n",
    "from pandas import Series, plotting\n",
    "from pandas.plotting import autocorrelation_plot"
   ]
  },
  {
   "cell_type": "code",
   "execution_count": null,
   "id": "57fb5fc1",
   "metadata": {},
   "outputs": [],
   "source": [
    "# seed the random number generator\n",
    "seed(10)\n",
    "# create white noise series\n",
    "series = [gauss(0.0, 1.0) for i in range(1000)]\n",
    "series = Series(series)\n",
    "print(\"MEAN:\", numpy.mean(series))\n",
    "print(\"STDDEV:\", numpy.std(series))"
   ]
  },
  {
   "cell_type": "code",
   "execution_count": 69,
   "id": "856f8f0a",
   "metadata": {},
   "outputs": [
    {
     "ename": "SyntaxError",
     "evalue": "positional argument follows keyword argument (354821016.py, line 6)",
     "output_type": "error",
     "traceback": [
      "\u001b[0;36m  Cell \u001b[0;32mIn[69], line 6\u001b[0;36m\u001b[0m\n\u001b[0;31m    plotting.lag_plot(lag=1, series, ax=axes[1,1]);\u001b[0m\n\u001b[0m                                                 ^\u001b[0m\n\u001b[0;31mSyntaxError\u001b[0m\u001b[0;31m:\u001b[0m positional argument follows keyword argument\n"
     ]
    }
   ],
   "source": [
    "fig, axes = plt.subplots(nrows=2, ncols=2, figsize=(15, 15))\n",
    "\n",
    "series.plot(ax=axes[0,0], kind='line', title='Lineplot', xlabel='SV #', ylabel='Value');\n",
    "series.plot(ax=axes[0,1], kind='hist', title='Histogram', xlabel='Value', ylabel='frequency');\n",
    "series.plot(ax=axes[1,0], kind='box', title='Boxplot');\n",
    "plotting.lag_plot(lag=1, series, ax=axes[1,1]);"
   ]
  }
 ],
 "metadata": {
  "kernelspec": {
   "display_name": "Python 3 (ipykernel)",
   "language": "python",
   "name": "python3"
  },
  "language_info": {
   "codemirror_mode": {
    "name": "ipython",
    "version": 3
   },
   "file_extension": ".py",
   "mimetype": "text/x-python",
   "name": "python",
   "nbconvert_exporter": "python",
   "pygments_lexer": "ipython3",
   "version": "3.9.16"
  }
 },
 "nbformat": 4,
 "nbformat_minor": 5
}
