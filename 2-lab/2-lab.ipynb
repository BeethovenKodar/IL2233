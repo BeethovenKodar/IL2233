{
 "cells": [
  {
   "attachments": {},
   "cell_type": "markdown",
   "metadata": {},
   "source": [
    "# IL2233 Lab 2 - ARIMA Model and Prediction\n",
    "\n",
    "## Imports"
   ]
  },
  {
   "cell_type": "code",
   "execution_count": 1,
   "metadata": {},
   "outputs": [],
   "source": [
    "import matplotlib.pyplot as plt\n",
    "import time\n",
    "import statsmodels.api as sm\n",
    "import numpy as np\n",
    "from random import gauss, seed, randint\n",
    "from pandas import Series, plotting, read_excel, DataFrame\n",
    "from pandas.plotting import autocorrelation_plot\n",
    "from statsmodels.graphics.tsaplots import plot_pacf\n",
    "from statsmodels.tsa.stattools import adfuller, acovf\n",
    "from statsmodels.tsa.seasonal import seasonal_decompose, STL\n",
    "from numpy.fft import fft, rfft\n",
    "from scipy.io import loadmat\n",
    "from scipy.signal import spectrogram\n",
    "from math import sqrt"
   ]
  },
  {
   "attachments": {},
   "cell_type": "markdown",
   "metadata": {},
   "source": [
    "**Helper functions**"
   ]
  },
  {
   "cell_type": "code",
   "execution_count": 2,
   "metadata": {},
   "outputs": [],
   "source": [
    "# Line plot, histogram, density plot, box plot, lag-1 plot, ACF and PACF graphs\n",
    "def plot_all(series: Series, lags: int):\n",
    "    fig, axes = plt.subplots(nrows=4, ncols=2, figsize=(20, 20))\n",
    "    fig.subplots_adjust()\n",
    "\n",
    "    series.plot(ax=axes[0,0], kind='line', title='Line plot', xlabel='SV #', ylabel='Value')\n",
    "    series.plot(ax=axes[0,1], kind='hist', title='Histogram', xlabel='Value', ylabel='frequency')\n",
    "    series.plot(ax=axes[1,0], kind='box', title='Box plot')\n",
    "    series.plot(ax=axes[1,1], kind='density', title='Density plot', xlabel='', ylabel='density')\n",
    "    plotting.lag_plot(series, ax=axes[2,0])\n",
    "    autocorrelation_plot(series, ax=axes[2,1])\n",
    "    plot_pacf(series, lags=lags, ax=axes[3,0]);\n",
    "\n",
    "def ljungbox(series: Series):\n",
    "    return sm.stats.acorr_ljungbox(series)\n",
    "\n",
    "def adfuller_test(series: Series):\n",
    "    result = adfuller(series, autolag='AIC')\n",
    "    print(f'ADF Statistic: {result[0]}')\n",
    "    print(f'p-value: {result[1]}')\n",
    "    for key, value in result[4].items():\n",
    "        print('Critial Values:')\n",
    "        print(f'{key}, {value}')"
   ]
  },
  {
   "attachments": {},
   "cell_type": "markdown",
   "metadata": {},
   "source": [
    "## Task 1: Stationarity of AR models"
   ]
  }
 ],
 "metadata": {
  "kernelspec": {
   "display_name": "base",
   "language": "python",
   "name": "python3"
  },
  "language_info": {
   "codemirror_mode": {
    "name": "ipython",
    "version": 3
   },
   "file_extension": ".py",
   "mimetype": "text/x-python",
   "name": "python",
   "nbconvert_exporter": "python",
   "pygments_lexer": "ipython3",
   "version": "3.9.16"
  },
  "orig_nbformat": 4
 },
 "nbformat": 4,
 "nbformat_minor": 2
}
