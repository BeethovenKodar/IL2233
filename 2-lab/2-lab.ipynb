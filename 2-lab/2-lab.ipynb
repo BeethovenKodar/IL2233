{
 "cells": [
  {
   "attachments": {},
   "cell_type": "markdown",
   "metadata": {},
   "source": [
    "# IL2233 Lab 2 - ARIMA Model and Prediction\n",
    "\n",
    "## Imports"
   ]
  },
  {
   "cell_type": "code",
   "execution_count": null,
   "metadata": {},
   "outputs": [],
   "source": [
    "import matplotlib.pyplot as plt\n",
    "import time\n",
    "import statsmodels.api as sm\n",
    "import numpy as np\n",
    "from random import gauss, seed, randint\n",
    "from pandas import Series, plotting, read_excel, DataFrame\n",
    "from pandas.plotting import autocorrelation_plot\n",
    "from statsmodels.graphics.tsaplots import plot_pacf\n",
    "from statsmodels.tsa.stattools import adfuller, acovf\n",
    "from statsmodels.tsa.seasonal import seasonal_decompose, STL\n",
    "from statsmodels.tsa.arima_process import arma_generate_sample, ArmaProcess\n",
    "from statsmodels.tsa.ar_model import AutoReg, ar_select_order\n",
    "from numpy.fft import fft, rfft\n",
    "from scipy.io import loadmat\n",
    "from scipy.signal import spectrogram\n",
    "from math import sqrt"
   ]
  },
  {
   "attachments": {},
   "cell_type": "markdown",
   "metadata": {},
   "source": [
    "**Helper functions**"
   ]
  },
  {
   "cell_type": "code",
   "execution_count": null,
   "metadata": {},
   "outputs": [],
   "source": [
    "# Line plot, histogram, density plot, box plot, lag-1 plot, ACF and PACF graphs\n",
    "def plot_all(series: Series, lags: int):\n",
    "    fig, axes = plt.subplots(nrows=4, ncols=2, figsize=(25, 25))\n",
    "    fig.subplots_adjust()\n",
    "\n",
    "    series.plot(ax=axes[0,0], kind='line', title='Line plot', xlabel='SV #', ylabel='Value')\n",
    "    series.plot(ax=axes[0,1], kind='hist', title='Histogram', xlabel='Value', ylabel='frequency')\n",
    "    series.plot(ax=axes[1,0], kind='box', title='Box plot')\n",
    "    series.plot(ax=axes[1,1], kind='density', title='Density plot', xlabel='', ylabel='density')\n",
    "    plotting.lag_plot(series, ax=axes[2,0], lag=1)\n",
    "    plotting.lag_plot(series, ax=axes[2,1], lag=2)\n",
    "    autocorrelation_plot(series, ax=axes[3,0])\n",
    "    plot_pacf(series, lags=lags, ax=axes[3,1]);\n",
    "\n",
    "# # Histogram, density plot, box plot\n",
    "# def plot_hist_dens_box(series: Series):\n",
    "#     fig, axes = plt.subplots(nrows=2, ncols=2, figsize=(20, 10))\n",
    "#     fig.subplots_adjust()\n",
    "\n",
    "#     series.plot(ax=axes[0,0], kind='hist', title='Histogram', xlabel='Value', ylabel='frequency')\n",
    "#     series.plot(ax=axes[0,1], kind='box', title='Box plot')\n",
    "#     series.plot(ax=axes[1,0], kind='density', title='Density plot', xlabel='', ylabel='density')\n",
    "#     plotting.lag_plot(series, ax=axes[2,0])\n",
    "\n",
    "def ljungbox(series: Series):\n",
    "    return sm.stats.acorr_ljungbox(series)\n",
    "\n",
    "def adfuller_test(series: Series):\n",
    "    result = adfuller(series, autolag='AIC')\n",
    "    print(f'ADF Statistic: {result[0]}')\n",
    "    print(f'p-value: {result[1]}')\n",
    "    for key, value in result[4].items():\n",
    "        print('Critial Values:')\n",
    "        print(f'{key}, {value}')\n",
    "\n",
    "\n",
    "def gen_arma(lagcoeffs_ar: list[int] = [], lagcoeffs_ma: list[int] = [], nsample: int = 250):\n",
    "    lagcoeffs_ar = np.r_[1, -np.array(lagcoeffs_ar)] if len(lagcoeffs_ar) > 0 else np.array([1])\n",
    "    lagcoeffs_ma = np.r_[1, np.array(lagcoeffs_ma)] if len(lagcoeffs_ma) > 0 else np.array([1])\n",
    "\n",
    "    proc = ArmaProcess(lagcoeffs_ar, lagcoeffs_ma)\n",
    "\n",
    "    generated_time_series = proc.generate_sample(nsample)\n",
    "    return generated_time_series, proc"
   ]
  },
  {
   "attachments": {},
   "cell_type": "markdown",
   "metadata": {},
   "source": [
    "# Task 1: Stationarity of AR models"
   ]
  },
  {
   "cell_type": "code",
   "execution_count": null,
   "metadata": {},
   "outputs": [],
   "source": [
    "s1, p1 = gen_arma(lagcoeffs_ar=[0.8])\n",
    "s2, p2 = gen_arma(lagcoeffs_ar=[-1.1])\n",
    "s3, p3 = gen_arma(lagcoeffs_ar=[1, -0.5])\n",
    "s4, p4 = gen_arma(lagcoeffs_ar=[1, 0.5])\n",
    "\n",
    "fig, axes = plt.subplots(nrows=2, ncols=2, figsize=(20, 10))\n",
    "fig.subplots_adjust()\n",
    "Series(s1).plot(ax=axes[0,0], kind='line', title='1)')\n",
    "Series(s2).plot(ax=axes[0,1], kind='line', title='2)')\n",
    "Series(s3).plot(ax=axes[1,0], kind='line', title='3)')\n",
    "Series(s4).plot(ax=axes[1,1], kind='line', title='4)')"
   ]
  },
  {
   "attachments": {},
   "cell_type": "markdown",
   "metadata": {},
   "source": [
    "**Judging visually:**\n",
    "\n",
    "None of the time series seem to be weakly stationary. In the case of 2), the mean may be constant but the variance is not.\n",
    "We find that 3) could be potentially stationary, but further tests are required to determine this."
   ]
  },
  {
   "attachments": {},
   "cell_type": "markdown",
   "metadata": {},
   "source": [
    "**Judging by coefficients:**\n",
    "\n",
    "To determine if the generated time series are stationary we can check the following constraints on the coefficients:\n",
    "- For p = 1: <u>−1 < $\\phi_1$ < 1</u>.\n",
    "- For p = 2: <u>−1 < $\\phi_2$ < 1</u> AND <u>$\\phi_2$ + $\\phi_1$ < 1</u> AND <u>$\\phi_2$ − $\\phi_1$ < 1</u>.\n",
    "\n",
    "- 1) AR(1) = $0.8x_{t-1} + \\epsilon_t           \\rightarrow -1 < \\phi_1 = 0.8 < 1$, which **fulfills** the stationarity condition for $p = 1$\n",
    "- 2) AR(1) = $-1.1x_{t-1} + \\epsilon_t          \\rightarrow -1 > \\phi_1 = -1.1$, which does **not fulfill** the stationarity condition for $p = 1$\n",
    "- 3) AR(2) = $1x_{t-1} - 0.5x_{t-2} \\epsilon_t  \\rightarrow -1 < \\phi_2 = -0.5 < 1$, $\\phi_2 + \\phi_1 = 0.5 < 1$, and $\\phi_2 - \\phi_1 = 0.5 < 1$, which **fulfills** the stationarity condition for $p = 2$\n",
    "- 4) AR(2) = $1x_{t-1} + 0.5x_{t-2} \\epsilon_t  \\rightarrow -1 < \\phi_2 = 0.5 < 1$, $\\phi_2 + \\phi_1 = 1.5 > 1$, and $\\phi_2 - \\phi_1 = -0.5 < 1$, which does **not fulfill** the stationarity condition as the second criteria is not fulfilled"
   ]
  },
  {
   "attachments": {},
   "cell_type": "markdown",
   "metadata": {},
   "source": [
    "**Built-in function in statsmodels:**\n",
    "\n",
    "From the output below, we validate that manual stationarity calculations were correct."
   ]
  },
  {
   "cell_type": "code",
   "execution_count": null,
   "metadata": {},
   "outputs": [],
   "source": [
    "print(f\"AR process 1 is stationary: {p1.isstationary}\")\n",
    "print(f\"AR process 2 is stationary: {p2.isstationary}\")\n",
    "print(f\"AR process 3 is stationary: {p3.isstationary}\")\n",
    "print(f\"AR process 4 is stationary: {p4.isstationary}\")"
   ]
  },
  {
   "attachments": {},
   "cell_type": "markdown",
   "metadata": {},
   "source": [
    "**Augmented Dickey-Fuller Test:**\n",
    "\n",
    "One final stationarity test is done on the time series applying the ADF test. For each of the test outputs, we check if the ADF-statistic is less than all the critical values and also if the p-value is less than 0.5.\n",
    "\n",
    "Our findings indicate the same results as previous tests."
   ]
  },
  {
   "cell_type": "code",
   "execution_count": null,
   "metadata": {},
   "outputs": [],
   "source": [
    "adfuller_test(Series(s1))\n",
    "print(\"-\"*40)\n",
    "adfuller_test(Series(s2))\n",
    "print(\"-\"*40)\n",
    "adfuller_test(Series(s3))\n",
    "print(\"-\"*40)\n",
    "adfuller_test(Series(s4))"
   ]
  },
  {
   "attachments": {},
   "cell_type": "markdown",
   "metadata": {},
   "source": [
    "## Task 1 - Questions"
   ]
  },
  {
   "attachments": {},
   "cell_type": "markdown",
   "metadata": {},
   "source": [
    "- **With visual inspection, how do you identify if a time series is stationary or not?**\n",
    "\n",
    "By visual inspection one can check what the mean seems to be for various intervals of the time series, but also for the time series as a whole. Variance is also easy to visually inspect over slices in time and for the whole series. Another easy inspection methods includes finding seasonality, i.e. repeating patterns.\n",
    "'\n",
    "- **How do you judge the stationarity of time series using the unit-root method? Does it always give correct results?**\n",
    "\n",
    "We use the ADF test to judge stationarity. Based on the ADF statistic, negative values implies less probability of non stationarity.\n",
    "\n",
    "- **What is the role of component $\\epsilon_t$ in the model? Why is it important?**\n",
    "\n",
    "$\\epsilon_t$ is a Gaussian white noise with normal distribution (0, 1). There is always a measure of error to future values based on prediction from past data points, which need to be taken into consideration. The error $\\epsilon_t$ does this.\n",
    "\n",
    "- **To have an AR(p) model be stationary, is there any requirement on the auto-regressive coefficients? List the constraints for AR(1) and AR(2) models**\n",
    "\n",
    "The following constraints are put on the coefficients to determine stationarity of the AR(p) model, where $\\phi_t$ is the coefficient:\n",
    "\n",
    "- For p = 1: <u>−1 < $\\phi_1$ < 1</u>\n",
    "- For p = 2: <u>−1 < $\\phi_2$ < 1</u> AND <u>$\\phi_2$ + $\\phi_1$ < 1</u> AND <u>$\\phi_2$ − $\\phi_1$ < 1</u>"
   ]
  },
  {
   "attachments": {},
   "cell_type": "markdown",
   "metadata": {},
   "source": [
    "# Task 2: ACF, PACF of AR models"
   ]
  },
  {
   "attachments": {},
   "cell_type": "markdown",
   "metadata": {},
   "source": [
    "### Are all of them stationary? **Judging visually:**\n",
    "At a first glance, 2) and 4) seem to be weakly stationary. 1) show signs of great variation of mean and variance at different intervals, and thus can't be considered weakly stationary. 3) could potentially be weakly stationary, but further tests are required to determine this.\n",
    "\n",
    "### Are there any outliers? Why?\n",
    "Looking at the box plot, we can see outliers in most cases. This, of course, depends on the gaussian white noise whether outliers exist or not. Our theory is that when the data points in a time series differ by a certain variance from the mean, this spawns outliers either above or below the box plot (depending on the data point being above or below the mean)\n",
    "\n",
    "### Do you observe any auto-correlation from the lag plots?\n",
    "The lag-1 plot seems to give a measure of autocorrelation, at least more than lag-2. Despite this, there is no clear autocorrelation for any of the given models.\n",
    "\n",
    "### What characteristics can you observe from the ACF graphs of the AR(p) models?\n",
    "Over time, the ACF graph converges to remain inside the confidence interval.\n",
    "\n",
    "### What characteristics can you observe from the PACF graphs of the AR(p) models?\n",
    "After the relevant lag = p + 1, the data points will be inside the confidence interval. This means that there is no considerable autocorrelation after the p + 1 lag, and we believe this is the case beceause the AR model does not use any further \"lag\" than that."
   ]
  },
  {
   "cell_type": "code",
   "execution_count": null,
   "metadata": {},
   "outputs": [],
   "source": [
    "s1, p1 = gen_arma(lagcoeffs_ar=[0.8], nsample=1000)\n",
    "s2, p2 = gen_arma(lagcoeffs_ar=[-0.8], nsample=1000)\n",
    "s3, p3 = gen_arma(lagcoeffs_ar=[1, -0.5], nsample=1000)\n",
    "s4, p4 = gen_arma(lagcoeffs_ar=[-1, -0.5], nsample=1000)\n",
    "\n",
    "plot_all(Series(s1), lags=40);\n",
    "plot_all(Series(s2), lags=40);\n",
    "plot_all(Series(s3), lags=40);\n",
    "plot_all(Series(s4), lags=40);"
   ]
  },
  {
   "attachments": {},
   "cell_type": "markdown",
   "metadata": {},
   "source": [
    "# Task 3: Invertibility, ACF, PACF of MA models"
   ]
  },
  {
   "attachments": {},
   "cell_type": "markdown",
   "metadata": {},
   "source": [
    "### Are all of them invertible, just by visual inspection?\n",
    "It is uncertain whether invertibility can be determined through visual inspection. \n",
    "\n",
    "### Judge whether each time series is invertible or not, by its models’s auto-regressive coefficient values.\n",
    "The following constraints are put on the coefficients to determine invertability of the MA(p) model, where $\\theta_t$ is the coefficient:\n",
    "\n",
    "- For q = 1: <u>−1 < $\\theta_1$ < 1</u>\n",
    "- For q = 2: <u>−1 < $\\theta_2$ < 1</u> AND <u>$\\theta_2$ + $\\theta_1$ < 1</u> AND <u>$\\theta_1$ − $\\theta_2$ < 1</u>\n",
    "\n",
    "- 1) MA(1) = $\\epsilon_t - 2 \\epsilon_{t-1} \\rightarrow -1 < \\theta_1 = 2 < 1$, which **not fulfill** the invertibility condition for $p = 1$.\n",
    "- 2) MA(1) = $\\epsilon_t - 0.5 \\epsilon_{t-1} \\rightarrow -1 > \\theta_1 = 0.5$, which does **fulfill** the invertibility condition for $p = 1$.\n",
    "- 3) MA(2) = $\\epsilon_t - \\frac{4}{5} \\epsilon_{t-1} + \\frac{16}{25} \\epsilon_{t-2} \\rightarrow -1 < \\theta_2 = 16/25 < 1$, $\\theta_2 + \\theta_1 = -0.16 > -1$, and $\\theta_1 - \\theta_2 = 0.16 < 1$, which **fulfills** the invertibility condition for $p = 2$.\n",
    "- 4) MA(2) = $\\epsilon_t - \\frac{5}{4} \\epsilon_{t-1} + \\frac{25}{16} \\epsilon_{t-2} \\rightarrow -1 < \\theta_2 = 25/16$, but $> 1$ which does **not fulfill** the invertibility because of the first criterion for p = 2.\n",
    "\n",
    "### Call the following statsmodel function to judge if each MA process is invertible\n",
    "The function calls show us that processes 1 and 4 are **not** invertible, whereas processses 2 and 3 **are** invertible.\n",
    "\n",
    "### Draw histogram, density plot, and box plot for each time series with 1000 data points. Are there any outliers? Why?\n",
    "Outliers occur in most cases. They exist because the error distribution can sometimes generate values outside the standard confidence intervals simply and then they become outliers in the box plot.\n",
    "\n",
    "### Draw lag-1 and lag-2 plots for each time series. Do you observe any auto-correlation from the lag plots?\n",
    "There is no discernible auto-correlation in the lag plots.\n",
    "\n",
    "## Questions\n",
    "\n",
    "### Are all the MA models invertible? If not, which ones are invertible and which ones are not invertible?\n",
    "The second (2nd) and third (3rd) are invertble, the remaining are not.\n",
    "\n",
    "### What characteristics can you observe from the ACF graphs of the MA(q) models?\n",
    "In regards to invertibility, since two different MA(q) models can generate the same ACF graph, not conclusion can be drawn.\n",
    "\n",
    "### What characteristics can you observe from the PACF graphs of the MA(q) models?\n",
    "In regards to invertibility, since two different MA(q) models can generate the same PACF graph, not conclusion can be drawn.\n",
    "\n",
    "\n",
    "### To have an MA(q) model be invertible, is there any requirement on the auto-regressive coefficients? List the constraints for MA(1) and MA(2) models.\n",
    "The following constraints are required on the MA(1) and MA(2) models for invertibility\n",
    "\n",
    "- For q = 1: <u>−1 < $\\theta_1$ < 1</u>\n",
    "- For q = 2: <u>−1 < $\\theta_2$ < 1</u> AND <u>$\\theta_2$ + $\\theta_1$ < 1</u> AND <u>$\\theta_2$ − $\\theta_1$ < 1</u>"
   ]
  },
  {
   "cell_type": "code",
   "execution_count": null,
   "metadata": {},
   "outputs": [],
   "source": [
    "s1, p1 = gen_arma(lagcoeffs_ma=[-2], nsample=1000)\n",
    "s2, p2 = gen_arma(lagcoeffs_ma=[-0.5], nsample=1000)\n",
    "s3, p3 = gen_arma(lagcoeffs_ma=[-4/5, 16/25], nsample=1000)\n",
    "s4, p4 = gen_arma(lagcoeffs_ma=[-5/4, 25/16], nsample=1000)\n",
    "\n",
    "plot_all(Series(s1), lags=40);\n",
    "plot_all(Series(s2), lags=40);\n",
    "plot_all(Series(s3), lags=40);\n",
    "plot_all(Series(s4), lags=40);\n",
    "\n",
    "print(\"Is process 1 invertible?\", p1.isinvertible)\n",
    "print(\"Is process 2 invertible?\", p2.isinvertible)\n",
    "print(\"Is process 3 invertible?\", p3.isinvertible)\n",
    "print(\"Is process 4 invertible?\", p4.isinvertible)"
   ]
  },
  {
   "attachments": {},
   "cell_type": "markdown",
   "metadata": {},
   "source": [
    "# Task 4 - Stationarity, ACF and PACF of ARMA models"
   ]
  },
  {
   "cell_type": "markdown",
   "metadata": {},
   "source": []
  }
 ],
 "metadata": {
  "kernelspec": {
   "display_name": "base",
   "language": "python",
   "name": "python3"
  },
  "language_info": {
   "codemirror_mode": {
    "name": "ipython",
    "version": 3
   },
   "file_extension": ".py",
   "mimetype": "text/x-python",
   "name": "python",
   "nbconvert_exporter": "python",
   "pygments_lexer": "ipython3",
   "version": "3.9.16"
  },
  "orig_nbformat": 4
 },
 "nbformat": 4,
 "nbformat_minor": 2
}
